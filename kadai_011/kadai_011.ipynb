{
  "nbformat": 4,
  "nbformat_minor": 0,
  "metadata": {
    "colab": {
      "provenance": []
    },
    "kernelspec": {
      "name": "python3",
      "display_name": "Python 3"
    },
    "language_info": {
      "name": "python"
    }
  },
  "cells": [
    {
      "cell_type": "code",
      "execution_count": 10,
      "metadata": {
        "colab": {
          "base_uri": "https://localhost:8080/"
        },
        "id": "d9hOkB6uT2I1",
        "outputId": "7f4e79e8-3f85-437a-99d2-cb627cb192f3"
      },
      "outputs": [
        {
          "output_type": "stream",
          "name": "stdout",
          "text": [
            "水\n",
            "金\n",
            "地\n",
            "火\n",
            "木\n",
            "土\n",
            "天\n",
            "海\n",
            "冥\n",
            "水\n",
            "金\n",
            "地\n",
            "火\n",
            "木\n",
            "土\n",
            "天\n",
            "海\n",
            "冥\n"
          ]
        }
      ],
      "source": [
        "array = [\"水\",\"金\",\"地\",\"火\",\"木\",\"土\",\"天\",\"海\",\"冥\"]\n",
        "array2 = array + array\n",
        "\n",
        "for planet in array2:\n",
        "  print(planet)\n",
        "\n",
        "\n"
      ]
    },
    {
      "cell_type": "code",
      "source": [
        "array = [\"水\",\"金\",\"地\",\"火\",\"木\",\"土\",\"天\",\"海\",\"冥\"]\n",
        "i = 0  # リストのカウンター\n",
        "\n",
        "while array[i]:\n",
        "  print(array[i])       #まずリストの要素を表示する\n",
        "  if array[i] == \"冥\":  #もし冥が表示されたら終了する\n",
        "    break\n",
        "  i = i +1              #冥が表示されるまでカウントアップする\n",
        "\n",
        "i = 0                   #2回目の表示を行うための準備\n",
        "\n",
        "while array[i]:\n",
        "  print(array[i])       #まずリストの要素を表示する\n",
        "  if array[i] == \"冥\":  #もし冥が表示されたら終了する\n",
        "    break\n",
        "  i = i +1\n",
        "\n"
      ],
      "metadata": {
        "colab": {
          "base_uri": "https://localhost:8080/"
        },
        "id": "rKE37MFyfbT0",
        "outputId": "94b8f1c9-4fc8-4b1a-b078-8cd499635b83"
      },
      "execution_count": 6,
      "outputs": [
        {
          "output_type": "stream",
          "name": "stdout",
          "text": [
            "水\n",
            "金\n",
            "地\n",
            "火\n",
            "木\n",
            "土\n",
            "天\n",
            "海\n",
            "冥\n",
            "水\n",
            "金\n",
            "地\n",
            "火\n",
            "木\n",
            "土\n",
            "天\n",
            "海\n",
            "冥\n"
          ]
        }
      ]
    },
    {
      "cell_type": "code",
      "source": [],
      "metadata": {
        "id": "da9HiXQnih7R"
      },
      "execution_count": null,
      "outputs": []
    }
  ]
}