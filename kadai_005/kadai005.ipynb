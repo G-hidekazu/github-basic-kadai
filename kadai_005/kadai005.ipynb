{
  "nbformat": 4,
  "nbformat_minor": 0,
  "metadata": {
    "colab": {
      "provenance": []
    },
    "kernelspec": {
      "name": "python3",
      "display_name": "Python 3"
    },
    "language_info": {
      "name": "python"
    }
  },
  "cells": [
    {
      "cell_type": "code",
      "execution_count": 1,
      "metadata": {
        "colab": {
          "base_uri": "https://localhost:8080/"
        },
        "id": "i5t9hNc2aPhI",
        "outputId": "1b329a24-7dc0-46bf-f1e3-843731ba7ccc"
      },
      "outputs": [
        {
          "output_type": "stream",
          "name": "stdout",
          "text": [
            "75.0cm²\n"
          ]
        }
      ],
      "source": [
        " upper = 10\n",
        " lower = 20\n",
        " height = 5\n",
        " area = (upper + lower) * height / 2\n",
        " print(str(area)+\"cm²\")\n"
      ]
    },
    {
      "cell_type": "code",
      "source": [],
      "metadata": {
        "id": "3jzP9fYibK-M"
      },
      "execution_count": null,
      "outputs": []
    }
  ]
}