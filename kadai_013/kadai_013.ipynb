{
  "nbformat": 4,
  "nbformat_minor": 0,
  "metadata": {
    "colab": {
      "provenance": []
    },
    "kernelspec": {
      "name": "python3",
      "display_name": "Python 3"
    },
    "language_info": {
      "name": "python"
    }
  },
  "cells": [
    {
      "cell_type": "code",
      "execution_count": 3,
      "metadata": {
        "colab": {
          "base_uri": "https://localhost:8080/"
        },
        "id": "kRE41SNG6SD9",
        "outputId": "79014c7d-1a66-4924-be11-dbe65a87e764"
      },
      "outputs": [
        {
          "output_type": "stream",
          "name": "stdout",
          "text": [
            "132.0\n"
          ]
        }
      ],
      "source": [
        "def total_payment(price:int, tax:int) -> float:\n",
        "  total = price * (1 + tax * 0.01)\n",
        "  return total\n",
        "\n",
        "print(total_payment(120, 10))\n"
      ]
    },
    {
      "cell_type": "code",
      "source": [],
      "metadata": {
        "id": "_OFy0RKV7R6h"
      },
      "execution_count": null,
      "outputs": []
    }
  ]
}