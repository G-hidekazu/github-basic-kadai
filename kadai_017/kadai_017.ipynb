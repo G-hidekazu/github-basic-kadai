{
  "nbformat": 4,
  "nbformat_minor": 0,
  "metadata": {
    "colab": {
      "provenance": []
    },
    "kernelspec": {
      "name": "python3",
      "display_name": "Python 3"
    },
    "language_info": {
      "name": "python"
    }
  },
  "cells": [
    {
      "cell_type": "code",
      "execution_count": 14,
      "metadata": {
        "colab": {
          "base_uri": "https://localhost:8080/"
        },
        "id": "9zYssA3LkNLT",
        "outputId": "4bee8257-f795-42ce-99b2-1147d7848e27"
      },
      "outputs": [
        {
          "output_type": "stream",
          "name": "stdout",
          "text": [
            "田中さんは大人ではありません\n",
            "鈴木さんは大人ではありません\n",
            "木村さんは大人です。\n",
            "山田さんは大人です。\n"
          ]
        }
      ],
      "source": [
        "#Human Classの作成\n",
        "class Human():\n",
        "  def __init__(self, name, age):\n",
        "    self.name =  name\n",
        "    self.age = age\n",
        "\n",
        "  def check_adult(self):\n",
        "    if self.age >=20:\n",
        "      print(f\"{self.name}さんは大人です。\")\n",
        "    else:\n",
        "      print(f\"{self.name}さんは大人ではありません\")\n",
        "\n",
        "#インスタンス作成\n",
        "tanaka = Human(\"田中\", 15)\n",
        "suzuki = Human(\"鈴木\", 18)\n",
        "kimura = Human(\"木村\", 20)\n",
        "yamada = Human(\"山田\", 25)\n",
        "\n",
        "members = [tanaka, suzuki, kimura, yamada]\n",
        "\n",
        "\n",
        "#ループ処理による大人判定の実行\n",
        "for member in members:\n",
        "  member.check_adult()\n",
        "\n",
        "\n",
        "\n",
        "\n",
        "\n"
      ]
    },
    {
      "cell_type": "code",
      "source": [],
      "metadata": {
        "id": "VsDslf-wqfzF"
      },
      "execution_count": null,
      "outputs": []
    }
  ]
}